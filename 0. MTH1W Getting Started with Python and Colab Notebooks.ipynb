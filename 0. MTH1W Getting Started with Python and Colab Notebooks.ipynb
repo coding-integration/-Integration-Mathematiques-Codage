{
  "cells": [
    {
      "cell_type": "markdown",
      "metadata": {
        "colab_type": "text",
        "id": "view-in-github"
      },
      "source": [
        "<a href=\"https://colab.research.google.com/github/coding-integration/1-Math-Coding-Integration/blob/main/0.%20MTH1W%20Getting%20Started%20with%20Python%20and%20Colab%20Notebooks.ipynb\" target=\"_parent\"><img src=\"https://colab.research.google.com/assets/colab-badge.svg\" alt=\"Open In Colab\"/></a>\n",
        "\n",
        "<a href=\"https://hub.callysto.ca/jupyter/hub/user-redirect/git-pull?repo=https%3A%2F%2Fgithub.com%2Fcoding-integration%2F1-Math-Coding-Integration&branch=main&subPath=0.%20MTH1W%20Getting%20Started%20with%20Python%20and%20Colab%20Notebooks.ipynb&depth=1\"  target=\"_parent\"><img src=\"https://raw.githubusercontent.com/callysto/curriculum-notebooks/master/open-in-callysto-button.svg?sanitize=true\" width=\"123\" height=\"24\" alt=\"Open in Callysto\"></a>\n"
      ]
    },
    {
      "cell_type": "markdown",
      "metadata": {
        "id": "W-Rs4KP3D6PS"
      },
      "source": [
        "## Coding in MTH1W <img src=\"https://i.imgur.com/qUSxW7s.png\" height=45 width=45 align=right>\n",
        "\n",
        "\n",
        "---\n",
        "\n",
        "\n",
        "#Getting Started With\n",
        "![Pythonbanner.PNG](https://www.python.org/static/img/python-logo@2x.png)\n",
        "\n",
        "---\n",
        "\n",
        "# Using Google Colab\n",
        "\n",
        "Welcome to [Google Colab](https://colab.research.google.com/)! You can think of Google Colab as being like a **digital notebook** that you can use to run, test, and write your own Python code. See the example below:\n"
      ]
    },
    {
      "cell_type": "code",
      "execution_count": null,
      "metadata": {
        "id": "N1icbGmjQpML"
      },
      "outputs": [],
      "source": [
        "# Welcome to the first code block! In Python, we use comments in code to explain what the code is doing.\n",
        "# This is an example of a comment!\n",
        "# Hover over this text and press the grey \"play\" button to the left of this block to run the code.\n",
        "\n",
        "print(\"Hello World!\")"
      ]
    },
    {
      "cell_type": "markdown",
      "metadata": {
        "id": "IYPZeKGAQ_AZ"
      },
      "source": [
        "After pressing the play button above, You will have noticed the text \"Hello World!\" appeared. This is a result of **running** the code.\n",
        "\n",
        "#Try typing ``` print(\"Hello World!\") ``` in the code block below. When you're done, press the play button again to make sure it works!\n",
        "\n"
      ]
    },
    {
      "cell_type": "code",
      "execution_count": null,
      "metadata": {
        "id": "674XMd2l72OF"
      },
      "outputs": [],
      "source": []
    },
    {
      "cell_type": "markdown",
      "metadata": {
        "id": "eVs-WTJe8ANN"
      },
      "source": [
        "**Congratulations!** 🎉 You just ran your first Python program! You are ready to move on to the next activity:\n",
        "\n",
        "#[Variables and BEDMAS in Python](https://colab.research.google.com/drive/1H-8_ji2ejlKzEUZ6eaHRBCNjPYYiJ6u1?usp=sharing)"
      ]
    }
  ],
  "metadata": {
    "colab": {
      "collapsed_sections": [],
      "include_colab_link": true,
      "name": "0. MTH1W Getting Started with Python and Colab Notebooks.ipynb",
      "provenance": []
    },
    "kernelspec": {
      "display_name": "Python 3",
      "name": "python3"
    },
    "language_info": {
      "name": "python"
    }
  },
  "nbformat": 4,
  "nbformat_minor": 0
}

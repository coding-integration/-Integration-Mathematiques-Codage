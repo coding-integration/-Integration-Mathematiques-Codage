{
  "cells": [
    {
      "cell_type": "markdown",
      "metadata": {
        "id": "view-in-github",
        "colab_type": "text"
      },
      "source": [
        "<a href=\"https://colab.research.google.com/github/gcorrigan/1-Math-Coding-Integration/blob/main/0_MTH1W_Initiation_%C3%A0_Python_et_les_notebooks_Colab.ipynb\" target=\"_parent\"><img src=\"https://colab.research.google.com/assets/colab-badge.svg\" alt=\"Open In Colab\"/></a>"
      ]
    },
    {
      "cell_type": "markdown",
      "metadata": {
        "id": "W-Rs4KP3D6PS"
      },
      "source": [
        "## Le codage avec MTH1W <img src=\"https://i.imgur.com/qUSxW7s.png\" height=45 width=45 align=right>\n",
        "\n",
        "\n",
        "---\n",
        "\n",
        "\n",
        "\n",
        "\n",
        "#Débuter avec python\n",
        "![Pythonbanner.PNG](https://www.python.org/static/img/python-logo@2x.png)\n",
        "\n",
        "---\n",
        "\n",
        "# Les notebooks Colab de Google\n",
        "\n",
        "Bienvenue dans [Google Colab](https://colab.research.google.com/?hl=fr) ! Vous pouvez considérer Google Colab comme un **bloc-note numérique** que vous pouvez utiliser pour exécuter, tester et écrire votre propre code en Python. Voir l'exemple ci-dessous :\n"
      ]
    },
    {
      "cell_type": "code",
      "execution_count": 3,
      "metadata": {
        "id": "N1icbGmjQpML",
        "colab": {
          "base_uri": "https://localhost:8080/"
        },
        "outputId": "995651c5-94c9-403c-bd99-e9906cd34372"
      },
      "outputs": [
        {
          "output_type": "stream",
          "name": "stdout",
          "text": [
            "Bonjour tout le monde !\n"
          ]
        }
      ],
      "source": [
        "# Bienvenue dans le premier bloc de code ! En Python, nous utilisons des commentaires dans le code pour expliquer ce que le code fait.\n",
        "# C'est un exemple d'une commentaire !\n",
        "# Survolez ce texte et appuyez sur le bouton gris « jouer » à gauche de ce bloc pour exécuter le code.\n",
        "\n",
        "print(\"Bonjour tout le monde !\")"
      ]
    },
    {
      "cell_type": "markdown",
      "metadata": {
        "id": "IYPZeKGAQ_AZ"
      },
      "source": [
        "Après avoir appuyé sur le bouton jouer ci-dessus, vous aurez remarqué le texte « Bonjour tout le monde ! » est apparu. Ceci est le résultat de l'**exécution** du code.\n",
        "\n",
        "#Essayez de taper ``` print(\"Bonjour tout le monde !\") ``` dans le bloc de code ci-dessous. Lorsque vous avez terminé, appuyez à nouveau sur le bouton « jouer » pour vous assurer que cela fonctionne !\n",
        "\n"
      ]
    },
    {
      "cell_type": "code",
      "execution_count": 4,
      "metadata": {
        "id": "674XMd2l72OF",
        "colab": {
          "base_uri": "https://localhost:8080/"
        },
        "outputId": "1df0d0b3-0f54-4455-fe52-e32311a5e88a"
      },
      "outputs": [
        {
          "output_type": "stream",
          "name": "stdout",
          "text": [
            "Bonjour Monde\n"
          ]
        }
      ],
      "source": [
        "print(\"Bonjour Monde\")"
      ]
    },
    {
      "cell_type": "markdown",
      "metadata": {
        "id": "Hd4wFeEPi4Ai"
      },
      "source": [
        "Après avoir appuyé sur le bouton jouer ci-dessus, vous aurez remarqué que le texte « Bonjour tout le monde ! » est apparu. Ceci est le résultat de l'**exécution** du code.\n",
        "\n",
        "#Essayez de taper ``` print(\"Bonjour tout le monde !\") ``` dans le bloc de code ci-dessous. Lorsque vous avez terminé, appuyez à nouveau sur le bouton « jouer » pour vous assurer que cela fonctionne !\n",
        "\n"
      ]
    },
    {
      "cell_type": "markdown",
      "metadata": {
        "id": "eVs-WTJe8ANN"
      },
      "source": [
        "**Félicitations !** 🎉 Vous venez d'exécuter votre premier programme en Python !\n",
        "\n",
        "Vous êtes prêt pour l'activité suivante : **1. Initiation aux variables et PEMDAS en Python**"
      ]
    }
  ],
  "metadata": {
    "colab": {
      "collapsed_sections": [],
      "provenance": [],
      "include_colab_link": true
    },
    "kernelspec": {
      "display_name": "Python 3",
      "name": "python3"
    },
    "language_info": {
      "name": "python"
    }
  },
  "nbformat": 4,
  "nbformat_minor": 0
}
{
  "cells": [
    {
      "cell_type": "markdown",
      "metadata": {
        "id": "view-in-github",
        "colab_type": "text"
      },
      "source": [
        "<a href=\"https://colab.research.google.com/github/coding-integration/Integration-Mathematiques-Codage/0_MTH1W_Initiation_à_Python_et_les_notebooks_Colab.ipynb\" target=\"_parent\"><img src=\"https://colab.research.google.com/assets/colab-badge.svg\" alt=\"Open In Colab\"/></a>"
      ]
    },
    {
      "cell_type": "markdown",
      "metadata": {
        "id": "W-Rs4KP3D6PS"
      },
      "source": [
        "## Le codage avec MTH1W <img src=\"https://i.imgur.com/qUSxW7s.png\" height=45 width=45 align=right>\n",
        "\n",
        "\n",
        "---\n",
        "\n",
        "\n",
        "\n",
        "\n",
        "#Débuter avec python\n",
        "![Pythonbanner.PNG](https://www.python.org/static/img/python-logo@2x.png)\n",
        "\n",
        "---\n",
        "\n",
        "# Les notebooks Colab de Google\n",
        "\n",
        "Bienvenue dans [Google Colab](https://colab.research.google.com/?hl=fr) ! Vous pouvez considérer Google Colab comme un **bloc-note numérique** que vous pouvez utiliser pour exécuter, tester et écrire votre propre code en Python. Voir l'exemple ci-dessous :\n"
      ]
    },
    {
      "cell_type": "code",
      "execution_count": null,
      "metadata": {
        "id": "N1icbGmjQpML"
      },
      "outputs": [],
      "source": [
        "# Bienvenue dans le premier bloc de code ! En Python, nous utilisons des commentaires dans le code pour expliquer ce que le code fait.\n",
        "# C'est un exemple d'une commentaire !\n",
        "# Survolez ce texte et appuyez sur le bouton gris « jouer » à gauche de ce bloc pour exécuter le code.\n",
        "\n",
        "print(\"Bonjour le monde !\")"
      ]
    },
    {
      "cell_type": "markdown",
      "metadata": {
        "id": "IYPZeKGAQ_AZ"
      },
      "source": [
        "Après avoir appuyé sur le bouton jouer ci-dessus, vous aurez remarqué le texte « Bonjour le monde ! » est apparu. Ceci est le résultat de l'**exécution** du code.\n",
        "\n",
        "#Essayez de taper ``` print(\"Bonjour le monde !\") ``` dans le bloc de code ci-dessous. Lorsque vous avez terminé, appuyez à nouveau sur le bouton « jouer » pour vous assurer que cela fonctionne !\n",
        "\n"
      ]
    },
    {
      "cell_type": "code",
      "execution_count": null,
      "metadata": {
        "id": "674XMd2l72OF"
      },
      "outputs": [],
      "source": [
        "print(\"Bonjour le monde !\")"
      ]
    },
    {
      "cell_type": "markdown",
      "metadata": {
        "id": "Hd4wFeEPi4Ai"
      },
      "source": [
        "Après avoir appuyé sur le bouton jouer ci-dessus, vous aurez remarqué que le texte « Bonjour tout le monde ! » est apparu. Ceci est le résultat de l'**exécution** du code.\n",
        "\n",
        "#Essayez de taper ``` print(\"Bonjour tout le monde !\") ``` dans le bloc de code ci-dessous. Lorsque vous avez terminé, appuyez à nouveau sur le bouton « jouer » pour vous assurer que cela fonctionne !\n",
        "\n"
      ]
    },
    {
      "cell_type": "markdown",
      "metadata": {
        "id": "eVs-WTJe8ANN"
      },
      "source": [
        "**Félicitations !** 🎉 Vous venez d'exécuter votre premier programme en Python !\n",
        "\n",
        "Vous êtes prêt pour l'activité suivante : **1. Initiation aux variables et PEMDAS en Python**"
      ]
    }
  ],
  "metadata": {
    "colab": {
      "provenance": [],
      "include_colab_link": true
    },
    "kernelspec": {
      "display_name": "Python 3",
      "name": "python3"
    },
    "language_info": {
      "name": "python"
    }
  },
  "nbformat": 4,
  "nbformat_minor": 0
}

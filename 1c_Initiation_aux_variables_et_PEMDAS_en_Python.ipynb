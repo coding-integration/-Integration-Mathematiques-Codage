{
  "nbformat": 4,
  "nbformat_minor": 0,
  "metadata": {
    "colab": {
      "provenance": [],
      "toc_visible": true,
      "include_colab_link": true
    },
    "kernelspec": {
      "name": "python3",
      "display_name": "Python 3"
    },
    "language_info": {
      "name": "python"
    }
  },
  "cells": [
    {
      "cell_type": "markdown",
      "metadata": {
        "id": "view-in-github",
        "colab_type": "text"
      },
      "source": [
        "<a href=\"https://colab.research.google.com/github/gcorrigan/Integration-Mathematiques-Codage/blob/main/1c_Initiation_aux_variables_et_PEMDAS_en_Python.ipynb\" target=\"_parent\"><img src=\"https://colab.research.google.com/assets/colab-badge.svg\" alt=\"Open In Colab\"/></a>"
      ]
    },
    {
      "cell_type": "markdown",
      "source": [
        "# 1.Initiation aux variables et PEMDAS en python <img src=\"https://i.imgur.com/qUSxW7s.png\" height=45 width=45 align=right>\n",
        "\n",
        "## Les objectifs d’apprentissage\n",
        "*   Utiliser Python pour définir et utiliser des variables dans des expressions mathématiques simples.\n",
        "*   Comprendre comment Python peut être utilisé pour simplifier et évaluer des expressions mathématiques plus complexes.\n",
        "\n",
        "## Les critères de réussite\n",
        "<p>Je sais que je réussis quand :</p>\n",
        "<ul>\n",
        "<li>Je peux définir et utiliser des variables en Python dans des expressions mathématiques simples.</li>\n",
        "<li>Je peux tester et évaluer des expressions mathématiques en utilisant Python.</li>\n",
        "</ul>\n",
        "\n",
        "---\n",
        "# Activité 1 : Le PEMDAS en Python <img src=\"https://i.imgur.com/qUSxW7s.png\" height=45 width=45 align=right>\n",
        "---\n",
        "\n",
        "## La grande question : Est-ce que Python comprend le PEMDAS?\n",
        "\n",
        "Pensez à l'expression suivante : \n",
        "\n",
        "$\\ {10 × (-1) + 4}$\n",
        "\n",
        "\n",
        "Sur une feuille de papier, utilisez n'importe quelle stratégie pour **évaluer** cette expression.\n",
        "\n",
        "Une fois que vous avez trouvé la bonne réponse, essayez d'exécuter le bloc de code suivant :"
      ],
      "metadata": {
        "id": "ECS8voLWM3Z0"
      }
    },
    {
      "cell_type": "code",
      "source": [
        "10 * (-1) + 4"
      ],
      "metadata": {
        "id": "yTHe-eqBM7K9"
      },
      "execution_count": null,
      "outputs": []
    },
    {
      "cell_type": "markdown",
      "source": [
        "**REMARQUE IMPORTANTE :** En Python, nous utilisons un astérisque * à la place du symbole de multiplication ×\n",
        "\n",
        "Est-ce que Python a donné la même réponse que celle calculée ? Si ce n'est pas le cas, vérifiez votre travail !\n",
        "\n",
        "Essayez d'évaluer cette expression sur papier :\n",
        "\n",
        "$\\ {5^2 + (-2) × 3}$\n",
        "\n",
        "Une fois que vous avez trouvé la réponse, exécutez le bloc de code ci-dessous. Vérifiez que Python vous donne la même réponse que vous avez calculée :"
      ],
      "metadata": {
        "id": "jm7iiEolM9nt"
      }
    },
    {
      "cell_type": "code",
      "source": [
        "5**2 + (-2) * 3"
      ],
      "metadata": {
        "id": "kXBDS2HaNBSy"
      },
      "execution_count": null,
      "outputs": []
    },
    {
      "cell_type": "markdown",
      "source": [
        "**REMARQUE IMPORTANTE :** En Python, nous utilisons un double astérisque ** pour représenter un exposant !\n",
        "\n",
        "# D'après les résultats ci-dessus, est-ce que le Python comprend PEMDAS ?\n",
        "\n",
        "\n",
        "**Python a quelques limites.** Par exemple, en mathématiques, nous utilisons des parenthèses dans une expression comme 2(3) pour représenter 2 × 3. Tapez ``` 2(3) ``` dans le bloc de code ci-dessous et exécutez-le :"
      ],
      "metadata": {
        "id": "jN1qXJLgNBra"
      }
    },
    {
      "cell_type": "code",
      "source": [],
      "metadata": {
        "id": "uDjpRziCNFUg"
      },
      "execution_count": null,
      "outputs": []
    },
    {
      "cell_type": "markdown",
      "source": [
        "Vous devriez obtenir une erreur ! **En Python, vous devez utiliser l'astérisque (*) pour multiplier les nombres.**\n",
        "\n",
        "Les symboles suivants sont utilisés pour exprimer les opérations arithmétiques de base en Python :\n",
        "\n",
        "\n",
        "|Opérateur |  Description | Exemple  | \n",
        "|---------|--------------|----------|\n",
        "|   +     | **Addition**. Additionne des nombres ou des variables ensemble. |5 + 2 (= 7) <br>x + y + z|\n",
        "|   -     |**Soustraction**. Soustrait des nombres ou des variables ensemble. |3 - 1 (= 2)<br>a - b |\n",
        "| \\*       | **Multiplication**. Multiplie des nombres ou des variables ensemble. |n* m * k<br>10 \\* 2 (= 20) |\n",
        "| /       | **Division**. Divise des nombres ou des variables ensemble. |c / d <br>9 / 3 (= 3.0) |\n",
        "| \\*\\*     | **Exponentiation**. Multiplier le premier nombre par lui-même le nombre de fois donné par le deuxième nombre. |5 ** 2 (= 25) <br>x ** y |\n",
        "\n",
        "\n"
      ],
      "metadata": {
        "id": "rmoNNB3xNFom"
      }
    },
    {
      "cell_type": "markdown",
      "source": [
        "Essayez d'évaluer les expressions suivantes sur papier. Vérifiez ensuite vos réponses dans le bloc de code ci-dessous en utilisant les opérateurs Python appropriés.\n",
        "\n",
        "### $\\ {-3 + 6 + (-9)}$\n",
        "### $\\ {9 × (3+(-2 × 3))}$\n",
        "### $\\ {-4 + (-9) ÷ (-1)}$\n",
        "\n",
        "## Tapez les expressions dans les blocs de code ci-dessous et exécutez-les une à la fois :"
      ],
      "metadata": {
        "id": "pmOz3R-EpNtL"
      }
    },
    {
      "cell_type": "code",
      "source": [],
      "metadata": {
        "id": "VxGu0G0TNJL4"
      },
      "execution_count": null,
      "outputs": []
    },
    {
      "cell_type": "code",
      "source": [],
      "metadata": {
        "id": "_JhMBohJNJS5"
      },
      "execution_count": null,
      "outputs": []
    },
    {
      "cell_type": "code",
      "source": [],
      "metadata": {
        "id": "5mPq42O6NJZN"
      },
      "execution_count": null,
      "outputs": []
    },
    {
      "cell_type": "markdown",
      "source": [
        "---\n",
        "\n",
        "# Activité 2 : Les variables en Python - MTH1W <img src=\"https://i.imgur.com/qUSxW7s.png\" height=45 width=45 align=right>\n",
        "\n",
        "---\n",
        "\n",
        "# La grande question : Comment utilisons-nous les variables en Python ?\n",
        "\n",
        "La définition d'une variable en Python est très similaire à la façon de définir une variable en mathématiques. \n",
        "\n",
        "Essayez d'exécuter le bloc de code suivant :"
      ],
      "metadata": {
        "id": "llkm7_yjNMTz"
      }
    },
    {
      "cell_type": "code",
      "source": [
        "a = 5"
      ],
      "metadata": {
        "id": "c6D2p3O2NPXT"
      },
      "execution_count": null,
      "outputs": []
    },
    {
      "cell_type": "markdown",
      "source": [
        "**Rien ne s'est passé!** C'est bon, Python se souviendra que vous avez défini une variable appelée ``` a ``` et que vous la définissez égale à 5.\n",
        "\n",
        "Définissons une autre variable, appelée ``` b ```, et définissez-le égal à 2. Exécutez le bloc de code ci-dessous :"
      ],
      "metadata": {
        "id": "UopxhRU3NPqh"
      }
    },
    {
      "cell_type": "code",
      "source": [],
      "metadata": {
        "id": "2j7bCtCbNSvR"
      },
      "execution_count": null,
      "outputs": []
    },
    {
      "cell_type": "markdown",
      "source": [
        "**En Python, les noms de variables peuvent être plus descriptifs que les lettres standard comme ```a, b, x ``` ou ``` y ```.**\n",
        "<img src=\"https://www.nickzom.org/blog/wp-content/uploads/2018/12/rectangle.png\" height=150 width=300 align=right>\n",
        "\n",
        "Voir le rectangle donné avec une ``` longueur = 9 cm ``` et ``` largeur = 4 cm```.\n",
        " \n",
        "Quelle est la superficie du rectangle ? Notez la formule et n'oubliez pas de montrer vos calculs."
      ],
      "metadata": {
        "id": "wbBY9fpYNUEg"
      }
    },
    {
      "cell_type": "markdown",
      "source": [
        "Tapez les lignes suivants dans le bloc de code ci-dessous :\n",
        "\n",
        "\n",
        "**longueur = 9**\n",
        "\n",
        "Appuyez sur 'Entrée':\n",
        "\n",
        "**largeur = 4**\n",
        "\n",
        "#Définissez les variables de longueur et de largeur dans le bloc de code ci-dessous.\n",
        "N'oubliez pas d'exécuter le code !\n",
        "\n",
        "\n",
        "\n"
      ],
      "metadata": {
        "id": "oLammLZqkcEz"
      }
    },
    {
      "cell_type": "code",
      "source": [],
      "metadata": {
        "id": "xcBOeLqYhTQX"
      },
      "execution_count": null,
      "outputs": []
    },
    {
      "cell_type": "markdown",
      "source": [
        "Nous venons de définir deux variables, '''longueur''' et '''largeur''', et leur donnons les valeurs 9 et 4. Nous pouvons utiliser ces variables de la même manière que dans l'exemple précédent et les multiplier entre elles.\n",
        "\n",
        "#Tapez la ligne suivant dans le bloc de code ci-dessous :\n",
        "\n",
        "\n",
        "**longueur * largeur**\n",
        "\n",
        "\n",
        "N'oubliez pas d'exécuter le code !"
      ],
      "metadata": {
        "id": "QRgHSGgRNYD4"
      }
    },
    {
      "cell_type": "code",
      "source": [],
      "metadata": {
        "id": "xG4snPPJNayU"
      },
      "execution_count": null,
      "outputs": []
    },
    {
      "cell_type": "markdown",
      "source": [
        "**Essayez ce qui suit :** Calculez sur papier, la superficie des formes suivantes. Utilisez ensuite Python pour définir les variables (nommez-les de manière appropriée) et vérifiez ces calculs. Utilisez le bloc de code vide ci-dessous pour définir vos variables et calculer la superficie de chaque forme. N'oubliez pas d'exécuter le code !\n",
        "\n",
        "![image.png](data:image/png;base64,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)\n",
        "\n",
        "## Tapez votre code ci-dessous :"
      ],
      "metadata": {
        "id": "zVxJv0cPNcng"
      }
    },
    {
      "cell_type": "code",
      "source": [],
      "metadata": {
        "id": "v-K1la6ZNeKt"
      },
      "execution_count": null,
      "outputs": []
    },
    {
      "cell_type": "markdown",
      "source": [
        "**Avez-vous remarqué comment vous pouviez redéfinir les variables à chaque fois ?** Par exemple, même si nous avons défini précédemment;\n",
        "\n",
        "``` \n",
        "longueur = 9 \n",
        "```   \n",
        "\n",
        "et \n",
        "\n",
        "largeur = 4\n",
        "```\n",
        "\n",
        "\n",
        "nous avons redéfini les variables de longueur et de largeur pour calculer l'aire d'un rectangle différent."
      ],
      "metadata": {
        "id": "q8XNFuRVnhs6"
      }
    },
    {
      "cell_type": "markdown",
      "source": [
        "--- \n",
        "# Un défi supplémentaire - Le PEMDAS plus complexe\n",
        "\n",
        "Nous pouvons utiliser des variables pour nous aider à évaluer des expressions plus complexes. À l'aide des règles PEMDAS, calculez vous-même ce qui suit. Vous pouvez utiliser une calculatrice, mais il est très important d'utiliser correctement les parenthèses pour cette question !\n",
        "\n",
        "## $\\frac{3 - (3 × (2+3))}{(-5)+3^2}$\n",
        "(La réponse est -3)\n",
        "\n"
      ],
      "metadata": {
        "id": "bwb9uAncNjSb"
      }
    },
    {
      "cell_type": "markdown",
      "source": [
        "\n",
        "## Utilisez Python pour évaluer l'expression : \n",
        "Définir deux variables appelées `numérateur` et `dénominateur`\n",
        "dans le bloc de code ci-dessous. Définissez la variable `numérateur` égale au numérateur dans cette question. Assurez-vous d'utiliser les opérateurs Python appropriés ! Créez une nouvelle ligne en appuyant sur la touche 'Entrée' et faites de même pour le dénominateur.\n",
        "\n",
        "Faites une autre nouvelle ligne, puis tapez,\n",
        "\n",
        "\n",
        "```\n",
        "numérateur / dénominateur \n",
        "```"
      ],
      "metadata": {
        "id": "YmOAL-Mqo-E8"
      }
    },
    {
      "cell_type": "code",
      "source": [],
      "metadata": {
        "id": "zhk_pKLnNlj5"
      },
      "execution_count": null,
      "outputs": []
    },
    {
      "cell_type": "markdown",
      "source": [
        "Vérifiez que l'exécution du bloc de code ci-dessus vous donne -3.0, la bonne réponse.\n",
        "\n",
        "\n",
        "---\n",
        "\n",
        "\n",
        "# Renforcer votre apprentissages : Comment est-ce que les variables Python peuvent être utilisées pour évaluer des expressions mathématiques ?\n",
        "Votre réponse doit inclure au moins 2 façons."
      ],
      "metadata": {
        "id": "ixQ25ZuZNsaJ"
      }
    },
    {
      "cell_type": "markdown",
      "source": [],
      "metadata": {
        "id": "CSqNqMI2TmBL"
      }
    }
  ]
}
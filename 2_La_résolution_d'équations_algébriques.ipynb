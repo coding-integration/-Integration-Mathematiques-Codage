{
  "nbformat": 4,
  "nbformat_minor": 0,
  "metadata": {
    "colab": {
      "provenance": [],
      "private_outputs": true,
      "collapsed_sections": [
        "_4V7AuG7W-6x",
        "n1yLi8KZhaJH",
        "NIK-eHFOq39G",
        "1lsnvSlloXKA",
        "V1EofXs6LW2u",
        "DfOvVycE1K-z",
        "aMSip3bP2ld_",
        "6cr8HSE38USh"
      ],
      "include_colab_link": true
    },
    "kernelspec": {
      "name": "python3",
      "display_name": "Python 3"
    },
    "language_info": {
      "name": "python"
    }
  },
  "cells": [
    {
      "cell_type": "markdown",
      "metadata": {
        "id": "view-in-github",
        "colab_type": "text"
      },
      "source": [
        "<a href=\"https://colab.research.google.com/github/coding-integration/Integration-Mathematiques-Codage/blob/main/2_La_r%C3%A9solution_d'%C3%A9quations_alg%C3%A9briques.ipynb\" target=\"_parent\"><img src=\"https://colab.research.google.com/assets/colab-badge.svg\" alt=\"Open In Colab\"/></a>"
      ]
    },
    {
      "cell_type": "markdown",
      "source": [
        "# La résolution d'équations algébriques en Python<img src=\"https://cdn.iconscout.com/icon/free/png-256/python-2752092-2284909.png\" height=45 width=45 align=right>\n",
        "\n",
        "---\n",
        "# Les objectifs d’apprentissage\n",
        "\n",
        "\n",
        "*   Définir et utiliser en Python des variables dans des équations mathématiques simples et complexes\n",
        "*   Utiliser Python pour comparer des expressions mathématiques et exprimer des inégalités\n",
        "\n",
        "# Les critères de réussite\n",
        "Je sais que je réussis quand :\n",
        "*   Je peux utiliser des structures de décision de base pour comparer deux expressions\n",
        "*   Je peux utiliser Python pour vérifier les solutions d'équation\n",
        "*   Je peux examiner les structures de décision et prédire leur sortie\n",
        "\n",
        "---\n",
        "\n",
        "# La grande question: Comment utilisons-nous Python pour comparer des expressions mathématiques ?\n",
        "\n",
        "Jusqu'à présent, nous avons résolu des équations à une et deux étapes. Par exemple, sur papier, résolvez la variable `x` dans l'équation suivante :\n",
        "\n",
        "### $\\ {2x + 1 = 3}$\n",
        "\n",
        "## Comment vérifier qu'une solution (valeur x) est correcte ?\n",
        "\n",
        "Avec une *grille de vérification* (côté gauche/ côté droit)!\n",
        "\n",
        "Une *grille de vérification* sépare l'équation donnée en expressions **côté gauche** et **côté droit**, puis compare ces expressions pour vérifier l'égalité en remplaçant la variable par la solution proposée.\n",
        "\n",
        "\n",
        "|Côté Gauche (CG)   |   Côté Droit (CD)  | Explication |\n",
        "|-----|----|----------|\n",
        "|2x+1   |   3    | |\n",
        "|2**(1)**+1       |   3    |remplacer par la solution proposée x = 1|\n",
        "|**2**+1        |   3      |multiplier 2 * 1  | \n",
        "| **3** | 3 | ✔ CG = CD (le côté **gauche** et le côté **droit** sont égaux)|\n",
        "\n",
        "\n",
        "Lorsque nous utilisons une grille de vérification, nous posons une question : **\"Si nous évaluons les deux côtés de l'équation, sont-ils égaux ?\"**\n",
        "\n",
        "### Nous pouvons utiliser Python pour nous aider à répondre à cette question.\n",
        "\n"
      ],
      "metadata": {
        "id": "_4V7AuG7W-6x"
      }
    },
    {
      "cell_type": "markdown",
      "source": [
        "\n",
        "Considérez le bloc de code ci-dessous. Si vous exécutez le bloc de code, il affichera \"True\" - car c'est **Vrai** que 6 < 7 (6 est inférieur à 7)."
      ],
      "metadata": {
        "id": "p4SSiF0ugLws"
      }
    },
    {
      "cell_type": "code",
      "source": [
        "6 < 7"
      ],
      "metadata": {
        "id": "p5I5UwHugcSd"
      },
      "execution_count": null,
      "outputs": []
    },
    {
      "cell_type": "markdown",
      "source": [
        "Essayez le bloc de code suivant."
      ],
      "metadata": {
        "id": "SX4k6Q69gzXJ"
      }
    },
    {
      "cell_type": "code",
      "source": [
        "8 < 7"
      ],
      "metadata": {
        "id": "z99BE9Thg1Ms"
      },
      "execution_count": null,
      "outputs": []
    },
    {
      "cell_type": "markdown",
      "source": [
        "L'exécution du bloc de code ci-dessus vous donnera **False** - car il est **faux** de dire que 8 < 7 (8 est inférieur à 7)."
      ],
      "metadata": {
        "id": "b2StNbX9g3YI"
      }
    },
    {
      "cell_type": "markdown",
      "source": [
        "Examinez l'équation PEMDAS ci-dessous :\n",
        "### $\\ {2^3 + 1 = 9}$\n",
        "\n",
        "Utilisez PEMDAS pour vérifier que l'équation ci-dessus est **vrai**. Exécutez ensuite le bloc de code ci-dessous :"
      ],
      "metadata": {
        "id": "n1yLi8KZhaJH"
      }
    },
    {
      "cell_type": "code",
      "source": [
        "2**3+1 == 9"
      ],
      "metadata": {
        "id": "Co47F0lHh9W8"
      },
      "execution_count": null,
      "outputs": []
    },
    {
      "cell_type": "markdown",
      "source": [
        "**REMARQUE IMPORTANTE :** Python utilise deux signes égal (==) pour vérifier l'égalité.\n",
        "\n",
        "\n",
        "---\n",
        "\n",
        "\n"
      ],
      "metadata": {
        "id": "gEd0uVA7iAr2"
      }
    },
    {
      "cell_type": "markdown",
      "source": [
        "Nous pourrions séparer le côté gauche et le côté droit de l'équation en deux variables. Par exemple:\n"
      ],
      "metadata": {
        "id": "pXHw7opJiJNc"
      }
    },
    {
      "cell_type": "code",
      "source": [
        "coteGauche = 2**3+1\n",
        "coteDroit = 9\n",
        "\n",
        "coteGauche == coteDroit"
      ],
      "metadata": {
        "id": "f4x_91_mixGH"
      },
      "execution_count": null,
      "outputs": []
    },
    {
      "cell_type": "markdown",
      "source": [
        "Le bloc de code ci-dessus affichera **True**, car Python compare les valeurs de chaque variable.\n",
        "\n",
        "**Changez la valeur de `coteDroit` pour être`8` au lieu de `9`. Exécutez à nouveau le code pour voir ce qui se passe.**\n",
        "\n",
        "\n",
        "---\n",
        "\n"
      ],
      "metadata": {
        "id": "GBsLZ667i3od"
      }
    },
    {
      "cell_type": "markdown",
      "source": [
        "## Que se passe-t-il si CG ≠ CD ?\n",
        "\n",
        "Exécutez le bloc de code suivant plusieurs fois. Entrez chaque expression pour le côté gauche puis le côté droit.\n",
        "\n",
        "### 1) Côté Gauche: ${-3 + 6 + (-9)}$,    Côté Droit:  ${-6}$\n",
        "### 2) Côté Gauche: $ {(7 + (-4)) + (-3)}$, Côté Droit: ${7}$\n",
        "### 3) Côté Gauche: $ {10}$,                Côté Droit: ${-1 - (-9 + (-3))}$"
      ],
      "metadata": {
        "id": "NIK-eHFOq39G"
      }
    },
    {
      "cell_type": "code",
      "source": [
        "coteGauche = eval(input(\"Entrez l'expression pour le côté gauche, puis appuyez sur Entrée : \"))\n",
        "coteDroit = eval(input(\"Entrez l'expression pour le côté droit, puis appuyez sur Entrée : \"))\n",
        "\n",
        "if coteGauche == coteDroit:\n",
        "  print(\"CG est égal à CD\")\n",
        "if coteGauche != coteDroit:\n",
        "  print(\"CG n'est pas égal à CD\")"
      ],
      "metadata": {
        "id": "_wHsDY39rZrI"
      },
      "execution_count": null,
      "outputs": []
    },
    {
      "cell_type": "markdown",
      "source": [
        "# Les conditionnels\n",
        "\n",
        "Le code ci-dessus utilise des **conditions** ou des instructions **'*if*'** (si).\n",
        "\n",
        "Dans les exemples ci-dessus, **si** la variable `coteGauche` est égale (==) à la variable `coteDroit`, alors le code affichera '*CG est égal à CD*'. \n",
        "\n",
        "***Si*** les variables ne sont pas égales (! =), le code affichera '*CG n'est pas égal à CD*'."
      ],
      "metadata": {
        "id": "1lsnvSlloXKA"
      }
    },
    {
      "cell_type": "markdown",
      "source": [
        "# Les inégalités et les opérateurs de comparaison en Python\n",
        "\n",
        "En mathématiques, nous exprimons des **égalités** et aussi des **inégalités**. Nous pouvons exprimer des inégalités en Python en utilisant des symboles légèrement différents. Le tableau ci-dessous présente la liste des opérateurs de comparaison :\n",
        "\n",
        "\n",
        "|Opérateur |  Opérateur en Python\t | Description  | \n",
        "|---------|----------|----------|\n",
        "|   >     | >| Supérieur à |\n",
        "|   <     | < |Inférieur à |\n",
        "| ≤        | <= | Inférieur ou égal à |\n",
        "| ≥       | >= | Supérieur ou égal à |\n",
        "| =   | == | Égal à |"
      ],
      "metadata": {
        "id": "V1EofXs6LW2u"
      }
    },
    {
      "cell_type": "markdown",
      "source": [
        "# Défi : quelques expressions plus complexes\n",
        "\n",
        "Examinez le code ci-dessous. **Que pensez-vous qu'il se passe?**"
      ],
      "metadata": {
        "id": "95GP7MRrJUgW"
      }
    },
    {
      "cell_type": "code",
      "source": [
        "equation = input('Entrez l''équation sous la forme ax+b=c, puis appuyez sur Entrée :')\n",
        "x = int(input(\"Entrez une valeur valide pour X :\"))\n",
        "\n",
        "coteGauche = equation.split(\"=\")[0] #obtenir l'expression du côté gauche de l'égalité\n",
        "coteDroit = int(equation.split(\"=\")[1]) #obtenir l'expression du côté droit de l'égalité\n",
        "\n",
        "print(\"Côté Gauche =\",coteGauche)\n",
        "print(\"Côté Droit =\",coteDroit)"
      ],
      "metadata": {
        "id": "T6S7ZQkFJfqe"
      },
      "execution_count": null,
      "outputs": []
    },
    {
      "cell_type": "markdown",
      "source": [
        "Entrez votre réponse ici :"
      ],
      "metadata": {
        "id": "3xE3iG44jHQl"
      }
    },
    {
      "cell_type": "markdown",
      "source": [
        "## L'activité 1 : Un vérificateur d'équation\n",
        "\n",
        "Dans cette activité, vous compléterez le code pour créer un **vérificateur d'équation**. Le vérificateur d'équation prendra en entrée n'importe quelle équation de la forme $\\ {ax + b = c}$ avec une valeur $\\ {x}$ à remplacer dans l'équation. Le code vérifiera automatiquement si la valeur $\\ {x}$ résout l'équation (par conséquent, le côté gauche et le côté droit sont égaux).\n",
        "\n",
        "**Rappel** : Le * (astérisque) doit être utilisé pour multiplier les valeurs !\n",
        "\n",
        "**Astuce** : Pour compléter le code, examinez le code ci-dessus qui vérifie les deux expressions pour l'égalité ou l'inégalité.\n",
        "\n"
      ],
      "metadata": {
        "id": "dWMb4meEikmE"
      }
    },
    {
      "cell_type": "code",
      "source": [
        "equation = input('Entrez l\\'équation sous la forme ax+b=c, puis appuyez sur Entrée :')\n",
        "x = int(input(\"Entrez une valeur valide pour X :\"))\n",
        "\n",
        "coteGauche = equation.split(\"=\")[0] #obtenir l'expression du côté gauche de l'égalité\n",
        "coteDroit = int(equation.split(\"=\")[1]) #obtenir l'expression du côté droit de l'égalité\n",
        "\n",
        "# continuer le code ici"
      ],
      "metadata": {
        "id": "r-h-ylC_tX21"
      },
      "execution_count": null,
      "outputs": []
    },
    {
      "cell_type": "markdown",
      "source": [
        "Essayez votre code avec les équations suivantes :\n",
        "\n",
        "\n",
        "1.   $\\ {2x + 7 = 25}$,  si ${x}$ = 9\n",
        "2.   $\\ {\\frac{1}2x = -2}$, si ${x}$ = 1\n",
        "3.   $\\ {x^2 + 4 = 20}$, si ${x}$ = 5\n",
        "4.   $\\ {-3x^3 - 5 = -86}$, si $\\ {x}$ = 4\n",
        "\n"
      ],
      "metadata": {
        "id": "rhYujXgcydjU"
      }
    },
    {
      "cell_type": "markdown",
      "source": [
        "### Défi : Fournir plus de commentaires\n",
        "Pour un défi supplémentaire, fournissez des commentaires lorsque les côtés gauche et droit ne sont pas égaux. \n",
        "\n",
        "Modifiez le code pour comparer si le côté gauche est supérieur, inférieur ou égal au côté droit.\n",
        "\n",
        "Si c'est le cas, affichez le message approprié ci-dessous :\n",
        "```\n",
        "\"Le côté gauche n'est pas égal au côté droit, CG est supérieur à CD\"\n",
        "```\n",
        "```\n",
        "\"Le côté gauche n'est pas égal au côté droit, CG est inférieur à CD\"\n",
        "```\n",
        "```\n",
        "\"Le côté gauche et le côté droit sont égaux, CG est égal à CD\"\n",
        "```\n"
      ],
      "metadata": {
        "id": "DfOvVycE1K-z"
      }
    },
    {
      "cell_type": "markdown",
      "source": [
        "\n",
        "---\n",
        "\n",
        "# Un exemple : Un calculateur de coût total\n",
        "\n",
        "*Shrey remarque que la lessive est actuellement en vente. Le prix régulier est de **13,50$** mais le magasin offre un rabais de **5%**. Calculez le **coût total** de la lessive avec la taxe incluse.*\n",
        "\n",
        "## Comment pouvons-nous représenter cette situation en utilisant Python ?\n",
        "\n",
        "Résolvez d'abord cette question avec un crayon et du papier. Ensuite, exécutez le code ci-dessous pour vérifier que vous avez la bonne réponse !"
      ],
      "metadata": {
        "id": "0FkZXVf6vs-Y"
      }
    },
    {
      "cell_type": "code",
      "source": [
        "tax = 1.13\n",
        "rabais = 0.05\n",
        "coutTotal = 13.50\n",
        "\n",
        "total = ( - (coutTotal * rabais)) * tax\n",
        "\n",
        "print(round(total,2)) # afficher le coût total, arrondi à 2 décimales"
      ],
      "metadata": {
        "id": "2zwTGC7Q15Jj"
      },
      "execution_count": null,
      "outputs": []
    },
    {
      "cell_type": "markdown",
      "source": [
        "### La modélisation de situations plus complexes \n",
        "\n",
        "*Shrey remarque que le magasin a une offre supplémentaire - s'il commande la lessive en ligne **plus de 5 fois**, le rabais passera de **5%** à **15%**...*\n",
        "\n",
        "\n",
        "---\n",
        "![image.png](data:image/png;base64,iVBORw0KGgoAAAANSUhEUgAAARgAAABgCAYAAADGiG2UAAAgAElEQVR4nO2dW3Ac15nff32Z+wyAGdwvJMjhXbxraFnyWrbWhuzadWXX2QTa1FYlWadS0EteUnmAXvIO5iVPqQqUh33JpmrJlHezXnvXS9prW2tJlgBJJMWbSAAELyDu18Fcu/vkodHDxmAGGIAzwAzZP1WXiOmZ7q/P+fp/vnPOd7olIYTAwcHBoQLIe22Ag4PDi4sjMA4ODhXDERgHB4eK4QiMg0ONMjw8zKFDh4hEIrz//vt7bU5BnktgLl68iCRJuc3BoVzYfevChQssLCzstUlVx7vvvsvo6CgLCwu8++67VVlGBQXmvffeWyccly9f3m27HF5iRkdHuXjxIgCxWIwrV64QDof32KrqY3h4eNO/q4GCApMvKFevXt0VYxwcgFxrHI1GHXHZhN7e3ty/o9EoPT09e2hNYTYIzPDwMKOjo+s+cyIYh93Casx6enq4dOmSIy6bMDg4SF9fH729vVy6dGmvzSmMyKO/v18AG7ZLly7lf1UMDAys+87Q0JDo7e0V4XBY9PT0iIGBgQ2/sf+2p6dHhMNhEYvFRF9fnxgaGtrwPfvxr1y5IgYHB0VPT48ARE9Pzwa77Db19PSIkZER0dfXJ6LRqIhGo6Kvr0/Mz88XtOnSpUsiFosJQITDYdHX1ydGRkbWfcc6d7Gtp6en6DUPDg6u+27+se37o9Hoc5eXvfzz68qOvd4AEYvFRH9//wb7Ks38/Lzo6+tbZ8fg4GDR71+5ckX09fWJWCwmwuGw6O3tLeinQlTO3+y2W+ewvjswMLDB1/L9M/+esR8//3ib+frz1Gk5/L4YG/ZEo9HcjyzjANHX17fhx/kXaP9+sRtufn4+dzGFtnyHsu8r9rv8SrHfpIVsisViG66lr6+v4LHD4fA6R3wegZmfn9/0Wnt7e3P7+vv7n7u8ShGYoaGhgmVUrJwqxWZ2FPK9fLG2b1bZCVF5f9vqHLFYbJ3IlOKfAwMD2/b1ndZpufy+GOv2DA0NbbhQ+wnzyb/AYpvd0bcyFMyWo1CFF9vsrX2pNtkd69KlSyUf/3kERgixznF6e3vX7bM7heVIz1NepQjMZsffLAItN5uJQH59XblypeQyqbS/lXIO+01dqn/uxNdLscdep+X0+2Ks22PvHsViMTEyMrLuIFuFaGC2NvmqaBmaf0HhcFj09/dvMN5eIcVu4vzPLLUtZJPVPbJ/Zr+57c4di8XEpUuXNhzHcvDBwUExMDCQ2/JvjGIhdKEys4t2/k1TjvLaSmDy63dgYCDX7bCX6U6xymirrlb+dVp22MvW7uz5Zd7b27vB5wYGBnbF3/LPEY1GxcDAwAZ/s/yikH9uJq6F9hXz9e3WaTn9vhjr9tgLxXJO+4HyQ9V8YzZz6KGhoQ1OYL9Ye/cAno1P5DtIscK1CiL/c8vm+fn5dddnOWx+hdhbM7u9+dFGod9uFb0IsTFKtK7HLu7WuZ63vLYSmEKiZmEvh51SqEwLYb9Oexnml+/Q0NCGz+zdoYGBAREOh3O+sBv+Zj9OOBzOdYfm5+fXRaRWnRa7Z/K7fDvxdSFKr9Pd8vucBcUcf7NuUv4F2vua+UYMDg6uu8HzDc8/v1WIhcTCqsBCFZVvk731zB/AFmJjC5RfIfmCZCffSa1KGhkZWaf21mZhd7xCQm599rzltZXA5B+jt7dXDA4Obmtwd2hoKGd7NBrNtdT2shsYGNg0Gip07Rb26GFwcHDLgXL7eXbD3+znyG+A7Teq5T+b3TPP6+uFrqtYnVbC7wuRO7L95rMftJjwFLvAdQfPK5Rizl/s+8U+2+z7m9lUaN92+sR28lsKu0MUGyOwyG+x88V4q2hkJ+VVrFyKDQb29PQUnW2zGBkZKfj7fJ+xjleMUsvfEurNfG6r8tlp+e3k+6X4W6n2bsfXS6nTSvh9IXJ5MPZkutHR0XVp2nacnBiT9957L/fvcDhMf39/yb+NxWK5f1+9enVdmUajUaLRaHmMLIFidl+9epV33nln099evHiRhYWFXLatlfhVretiXhaep063Yrt+r4IpKKWmGV++fJmBgYGC+xYWFnKJUfnJeuFwmGg0mvt8qzTnvUqwKnZtdt5///119vb3929LFHp7e3n33Xdzf1tp8dY+i+ctL/valGL1a9l++fLlghnc9jrNx2qU+vr6clmkly9f5urVqwghcuvTrly5smmWaTgcztna09NT9LuxWGyDXw0PD68TbPvfu+Fv9nPk22b/e7cbja3qNJ+K+f12wyUoPoptD+vyxzvKMchbiS5Soal5O4VyHuwhaDQa3bIrUYhS8hx2Ul75My/z8/MFuywWW/XNN+1fbxFWl3KM/GvJL09rYNdur/08lRzkLcXf7OfYbJDX6krsRheplDrdLb9XYX23JxaLrWtFLeyh0eXLl9e1GvbvWKptD5Oj0SixWIyenp51n7/99tv09fUxPDy8rosWi8V2TfGtc1l2W9cQjUa5evUqV69e5dKlS+vCf3sLEI1GN3QJSuku9fb2Fowq7GW/k/KKRqO5446OjhKJRDa147333mN4eJi+vj5isdiG1m2zlt2KPHp7ewv6Q6n09PTkfHB0dJQLFy7Q19fHwsIC77//PtFolKGhodz1xWKx3DVevHiR0dFRwuFwrqystUy74W/2cywsLORsz/eT3VwnVEqdltvvi/p8odmeQuS3MoUUtNhWrkS7SkQwhRQ+f7O3TKVcbykUiioKTQlut7w2y3DNtzF/diJ/KzSDYMdqva0cisHBwXWDflaL19/fv2V+0FaJdva6361Eu1L8rZRz2Ae4Kx3BbKdOy+n3xWCzaV07hfJaSkl7zr9pypX6vp1CL6Vyi6VMWzdQoXNut7DzyS+vQjMd2y0vIQrfrIUSo7a6Ubfq2hRLSbfEpFCjtN1j5R/TYjeWCpQqMDtdKpDvK+Xw9e3Wabn8vhjkZ/MVo1Df136BPT094sqVKxVd7FhJgRFC5Oy3l8dm53xegcmv3M3yT0otLyE2Lhrs7+8vmoBlZXla+RzWosFSs3itRXWWiOTfeNa+3t7eLfvs1oJBuy2bXWelFzuWKjB227ez2LESAmMvl1LrtBx+Xwxp7ccODg4OZcd5Jq+Dg0PFcATGwcGhYjgC4+DgUDEcgXFwcKgYjsA4ODhUDEdgHBwcKoYjMA4ODhXDERgHB4eK4QiMg4NDxXAExsHBoWI4AuPg4FAxHIFxcHCoGI7AODg4VAxHYBwcHCqGIzAODg4VwxEYBweHiuEIjIODQ8VwBMbBwaFiOALj4OBQMdS9NqDsCAFGFrQE6CkwMubfRhYMDfMZxQ47QvFC6CBICqy9tdGOYRhks9k9MKy6sN5oab1+WZbldZ+9TLwYAiMMUzyMNGgpSE3D3HVYugerE5CcMrfMgik0LzSWgJbbkSWInIa3/gJcdRvPKgSpVIqpqSle5ufIS5KEoigoioKqqqiqisfjwePx5ITmZRKbF0Ngsqsw8yk8/jnMfgarT0zRQZgRTe7tCg47xl0PDScKiguArutkMpmXWlzAFFpN09A0jXQ6nftckiRcLhc+n49gMIjL5XIEpupJL8LEL+HRP8Dibcgsg54Goe21ZS8e/jZofaNg1wggm82STCZ32ajaQQhBJpNB0zRWV1fx+XwEAgG8Xi+y/OIOhdaewBg6pOfgyS/h6a9geQSS06Ct7rVle4w9cihzyygpEOiE5guFz7zWattb7HIhhHihWnrDMDAMg9XVVdLpNB6PB7/fj8/neyGFprYERhjmOMrDn8LYj2FlzBzIdags3iZoOG7+vwCappHJZDAMoyKnf9FEBkyhsSIaTdMQQhAMBvfarLJTOwJjaLD6yOwOPfwZLN4FKuPQNUkFAxiC3dB4FuTC7pLJZCoSvbwMGIZBKmU2kkIIAoHAuoHgWqc2BEYYpriM/y2M/F9IPt1ri14eJAVC3dDwSsHdQgiy2SyZTKYyp39BbrTNEEKQTCbRNHPs0O/3oyjKHltVHmqj05eahSe/gJHLjrgUwj5zU+770RMxc1/8rQV3a5pGNputWPfoZSKbzbK4uEg6nX5hyrP6BUZPweQHMP4TSE7utTU1QJkVpv6YuRU5biaTcZLrykg2m2VpaYl0Ov1CTPlXfxdp4RaM/x0s3NxrS6oTywkr0pOQIHzcHOAteGpBOp2uWPfoZSWZTKKqKrIs43a7a7qbWN0RjJ42p6Pnru21JS8nvlaoOwK+5oK7Kz179DITj8dJpVI1H8VUt8As3jIjmOzyXltSA0iUPYxpPLu29qiwm6RSqdzApEN5sQZ+a312rnq7SEYWJj+Gpa/22pJtIlhaMng4rfM4CbIsEWlVOBOR8CgVCHUrGT03njNnkIpQ6wKjZ1PEZx/yaHyeVSHwNHTS1tlCpM6Le6+NA9LpNKlUKreOqRapXoGJP4L567s6sLs4neG3X2X5zZMtvuiX6T7g4t+dVlmXGpXSuT6S5cqtLJ9NChYyZuMfrJN57YSHH5xWORiS8OQfTwhI6Pz41xm+dKl885TKG+0yvi0trtTCRsDXZkYv7vqCu62p6efuHqUWmRwfYfTxNHPxDEagkXD3Kb51pKHoT/TEPHMPr/HR3a0iWxVJ3seFnhM0+1y4nllPcv4p419+wRfjUyzMxkkDqq+B+pZ9HHnlBMeinYQLqkyCmTu3GHkwQyq8n8OnT9Ll38mFb42u66TTadLpND7f1t5QjVSvwCzchMTuTknHFzU++TLN/7q+xRfDKq8JhXdOYxMYweSjDD/7OMPfT0Fdq8q5TpBSBvfuZ/g/s4KM38efHlOI+uyCIDAMwdPRFH/52ywzhyWOHa2Camk8B4GOosl1qVQKXdd3dGhh6GjJWR6PjDE1PcPj8VHGnswwn9AQ4YN0qQc3FRgjs8LSw2t89NFWjY8HSc5y8NtHiNgERl+dZXJkmA8/+ZIxvY1Xjh4l5NZIzYwx9tUs83GBUAPEDjdsiGSMpcfcvzXMx3dThE42ET29oyIoGSuJ0RGYciJ0WLxj5r/s3knJZiCTBo9PorNd5ZXCC4choHCkTV7vfFmdL25l+eChwBv18Odve/hBm4QU1xn6QPCff5nlJzddnG6R2eeTnrWmArSkwa8+yXJblvnBcZWzTdLeRi+SAq2vg69l41nXBh0TicQOohedbGKJuQcPeDjziDufX+PBTIqUoqIYAhkoRbIMXSebTgIS1HVyqC2E11WoC+FCktqpVxWepa1pJGYf8fDuHUaTfjpf/RbfeesoTb408Ye/41dXP+Xag3t81dRKdH8DresrmaUHdxmfWCAZPsaJQ1HaKxS9WOi6nsszqsVuUnUKTGZ5bXX04i6eVJBYFazGoS6i8N0eP//1ePGbV5HzRGBVZ/iRYMxQeKtb5Y0OGS9AQOH3XnVz8rc6vxzRGTlrsNIuE5HMc+qaYGEyw1/fECjH3Xxzv8L+wB5PS3qbIHIK3OGCu63QffsCk2Z1dpQv/vav+fWygjcYJNjSREujD2ZmWJiaZ6mEo+jZLInlJTO62v8Nvv+9w7TWb+h4rqHgdis2GU6yNDfH5KNVfIE2jseO0ewHWfJSf+AU0dYHTDwaY3nuCRPLp2ltevZLkZ5h5P4jppdddJzt4mh3o63bVRnsj39wu6thZGh7VKHACHOFdPzxri9kFGuPj5EUcLklgt7SWwwjbnA3K5islwjUS+QCfAlokDkqw+8mDRaXBHEdIiogIJnQGfoiw0dI/PEZlRP1EiU1ihULYCRo+4YpMvLGdHUhBKurqzscezHQDZ2kFiLc1E40dpZzJ47SFV7h3s+v8kFJAiPM/wQgSci+AG6vF4+nxJvPSLC6mmBhyYuro4nWdT2xIA0NboLBFBPpOPMrGjS5sJ4nlHp8nZsTi8wHT3C0cz8du7Q20Vqp7ghMORCGuZAxU0pbVl40DbQs+L0SnXXbu3MXlg3SGQEhCbfPFt1IgFeiVQI3BvEMJDTMkjcES7Maf/Mrg2ybj+8fVmgLlPeato0kQcd3ig7uWgKzs/wMF8G2o7zxo5P8sMN+oSvbOIaBYehkMiAh0RypQ1W20XVIJUklU6zgQpaC+NcFPm48PgW3BzJZjUQqBbkYZZWxz2+xMJ+k42tddB9o2ThYXyFq+VGk1dmp0xJrT6TbTQSJBUF8zrz3A9sMDdxuGVmRIG3mB+YmbyVAkogDOjJeBTxrpR5f0rl+O8MVBb73LRdnghLBPc3alMxuUeQMqBuVTgiR6x7tTGDcuD31NLf6cyuGzW07x9DQs2kSK6a55prAbRxAdaGoKi4MBBnS62bZJXQDDAMURcHlXhMXQ4enQ3z8aJXZ0DkOdnWxr06qaIaAHSFEzSYzVqHASKbA7MEjLoXxTNe2WzB+v0SnAnUrgtSKIG7tMIAlnfsGJOolgiEJrwpoBlNTGr+4bqC1evjj4zKNnhLPW6nlAYoP2r4JrmDRh3onk8nnyC6VkCQZRX1etxPPikAq+pC9wqgevB4vQSWFps+xFLfvXCG+mCGxouBxuwn63YCBoccZHfqCuWWdjqMH6WqP4N/FO6eWBab6ukgISM1s02vKQFqwlBUsAKmE4MvbKf7HdYOkaRGegMyBFpWTHTJd9fKG8FgJK5xtkvhkWufhhMb1JYVv14OWFTy8meGLjCB0RCEalgjLkFrSuTuu8eu4xMlvuHm9XsIvS5A1mJw3eLhosKSD1yfT2SITDRTy6DKXkeqHru+D4il4bF3XSSQS5T3ntsmSzaZYWQYMnezEl3w8nwFJN2eg3D4CDa10de1jX1d443iWXEd9uJ62NoOH8Tlu3p7k9OuteCUJbW6UB9MLTGUjNNe10BGWQU+hL40wdHeBuHqYM92ttDa4kdHJJJZZmJ5kYmYVDZW6tv10tNYRcKtlbbkdgSk3yWmQdtk0XbBqQBxYWNT5p09T6KuCDKbAuDwyreEsh7tUvnHCxe8fVmmzm+hTeP0VF58/zfDhnQx/IQtutUioqzqffakx5lH5lydVXmmU8RoGI081PrqjsxxQ+dE5hRYXsKzxj9czfDCmM7ps2uNyS7S1qLxx1s2/6JYJqtvtUpSI7IJAOzS/CvLGwUTDMCr2WMztYaDrWVJJEMJgZewa19IJNGNNYFQP3mCY0eZ2OvYd4OT5k3QFVVTZKjQ3dW376D52kHsfPWJ8+J/4RbydgEsjPTfG3cdLyG3H6T58kFavgZZYYfLmMKOLBnWnTrG/JUxITjAzNsK9218xPj3P3FIKHYVA5CuaOg9x6uQRuprq8JbxkS61uiapCgVGmHkwRda/VAxZoq1D4Y2zcFCVCLjJ5U6kUoKluM69R1lujuvcmBEsCol/c0Lh2USuzMEjbn6wAtlrWW7fTvPgPsgC4orC71/w8K+PKnQHJNIrGjceaHw8J3HktJs/aJdQheDOl2n+8oMs9yWZrlaZgx5YWda5Npzi8wXo/CMvFyIQqMSSA1cIGs8XfSymYRhV8pwSBU8gQsex42RRcQc8uCRzPETPpknFF1iYn+bhzSc8HH3MYlrmrTdO0BJwYaXKeOo72Hfi67y2JHFjfJTh340iSwaG5KGh6SBnzp3ixMFmAnqalYUnfPHFOCuuLt44tY+Weg/azC3uf/ExH9+aJV3XyaF9zbhFmvnx21x7PMUqXlznj9BdOBV429TyE+6qUGAk8wn2y6O7e1qXzKlTHtqiIHskGgPP5g+WVwwmpzWufpbh725q3LqT4X8rEif2e3nLlrOi1qm8+ZpER7vCJyMaI8uCVEDmQIeLt4+q7A9IeCTB+GONoVGdqXqFfx9TOSCBsaLx46EMQ6syb77p5T++7uJMQDD1OMNf/X2Sgc/TXD7r5mBQJuCrgLN5GqH9W0V3a5pWJW8N8BBo6uZ0TyNHJTf+xhBeSUIGssk4y7OPeDRyh5u37zMy+ZQbv/kNoc4OvnUoQoOVdqD4aOg4Quy7ISI3vuTWzCLJjAtXqJGDR49xeH8rEZ+CFp9h7sFNbkzJ+I+8xonOIHXuJBMjdxkZeUIicJiTb3yX751rwy/iPPoozU/+eYR7t8boam2hPdxcljVN1svbapHqFJhAV8EwvaIoMuEGCBfIUA94ZdqbVaJhCY8h+J+/05meyPCzcTdvvbI+Dnb7FU4cUzhxrPAkpp7U+PyexudPJQ6ecvGH3TIIQfJphp/OCOY7XXztsMLpBgk3Em1NKt89pfDfbmr8bEzjPxxy0eWTyjs6L7nA3w5NsYK7K/nWgO2j4vbW09S1cRrd4/EQbGiktb2F5rDM/P/7jFntCZ/emOBse5A6r/dZuSluvJH9nPj2fk4UOo2RIT43xb3rd4i76oh9/TBNfg8u7QETTxeZmgvSdLqbMyc7CKiACLH//Dk6rk0xP/GE2bl5Fo1mWspUUbUqMNVptb/4Gpi9pL5D5XyrylkJ5jLwixnB2uvdSkSw+FjjtxM6oxGZV0+5OKGCIQTzSwa6DodaZDptCyJdLonGsEKTgOUnBjMZKPtt7m2E8CvgDhXcbT33pVbGAZRAE40dxzm71tvLTs6yksmynUwSkZ5jYWqUG49cuOrPci7qx+eRYXWF5UyaFU893rpmIlbCkwSEwkQ8Kh6xSCKxymqZAr5ajmCqz2pJguD+tZmMakOiqUmivQPIgD5tMMt23m2gc/2uxuhDON7k4u1DZvELAbNxDc0AvyLhsveAFPD4ZU4D6n3BTBLKnt/sbzMHd4uQzWZzT76vDVy4PQGaWgEEzM4Sz25PYFZnnjLx1XUWAz72v/kaHapidpnTCZJampRLQXarrI9fQ0TCCl7vAiupVVbKVGSKouByVXpRQmWoPoFBMh8T4Crcmu4tgmRGsJoCFJBDMhFKL8TEwyw/Gde536by6hmV895nSuISa4lbklg/S2SAlhRMA8YBiTov5V3/IikQ3Geuni6A9daA6ugelcraTJP1Lr76egKqWnq5ZaaYfPKQG/fd+EKn+MapEG5lrX6EQBIgCQHCyJvMT7KyYpDJhPB5fHlZwjtHURQ8nmpscLemCgUGcNdB/eGC2aR7yorBg2mDW0sQcsPZJgmVUrNRdIavZbk7IXG0Q+WbBxV8a6UvSxItjSqqAl/NC54mnmUCGzokUwYjEuiNMg0q5U1R93eY75ze4rkvtdI9AkCLk1ia5P4EgITc0kjQVbrAxJ8+4PHYXeZ89XScP8sBn4JsqX4oTL3XTyi5Snp5mSVr+bcAtASJlIGmh/B5vPjKUFGSJKGqKqpafUMGpVCdAiPJ5mtKA527dEKDySmNuxMaj+MG6QLPDEivaHz4eYZ/uKMxJiSaG1S+31168aWmsvx8xGAhrBCLqpwKPZMlSYZwp4tzLgnpsc69KYPJNIAgntC5dV9jVYJYl0yzR6Ksb8ypi0LktBnJFCCTyVTVQ73TK/PMPL7P4/llEvr6N7YAGNllZsbvcO3TGzxISiCFOHq8k5DfU5qzZ+d5+vAxY490PJFuTp5oxoetEfG10BIO0uRZZHHpKaNP116ahiAx/hVPkgmSDc3U19dTV4aKUlUVt9tds2Mw1SuLjedNx18eMfNiKsz0oyy/GNOZkGUifgm/X6JtrQujpwwm53WG72p8Ng2hdpXvnHPzZqSU2MVciXvvVpahWWg7p3J+n0zE5nySBO6wiz86mWHkusaHn6dR4xqHPIK5GY1/vmsQbHfRe1imxVvGVkFymd3R+qMFd1uvN62mhXaZ5Ume3PwdtxKN1AeDeFUFj1s1IwxdI5taYubpQ8buPyXpCtJ87Ou8dihC0FPa3Z6eG+PRkwkmaaS9+yhHwnlxj1JHx8Fu9k1MMTs5wo0PfwOdAVQjw+LYLR7HFZpOHaCzTMsJ3G53zXaPoJoFxtcMbW/C1MeQ2OoZls+PSxg8fZLlbx4I5nRw+yW6/aaAaAmDyQS41h6V+eYZN3/yqkpnCT4rDDDiGj+9oTHpVXmnW+WVsLw+CpEkcCl88xsexkSGn49nufJxlt9KkNEhE3bzznkP3+uUqXOVMQfG12IKjDdScHc1vlRNljQy8WlGrt0jkTEQsorX41oTmCzZrIYmufHWt3Oo+zDH33idQw0uStIXPc7U6BiPn8ZRWk5y4EQn9Rt+56Jh/3GOxzOsZm7x4P4n/Po+yEJDI0Rz9ynOn4myvznw3JGmNfZSi49psKhegZEUaPkaNMfg4RSISj5cWqLjgJuepIQI6dxeNMho5LpKUkShqUXm0D6Vt866eDOq0l5qh16Avqwz7VU5c8TN73XLdBTxl4YuD3/+HZmj9zSGH+ssZcAfVjh4yM2fHFfwU+Y+bfgVc6yryChSOp3epejFRaCxlc7oKmqoneaG4jeUp76VjuMXOJsZZ2Y5TVbTSGuGOUYkKaiqC08wQuO+w5w7f4rodrJp9RVW0l58dUc4dfgIxzuKjAF6mjn4ytcI1UW4efMeT5aSZFQ3gbr9nIqdpbspiL8Md5bX68Xr9dZs9whAEtU8eicEPPoZ3PjvsPJgd85pCDIpg9llwUTSLBqXX6YtJBP2Srhrt67XIylw8j/B4T8z82DyEEIwNzdHPB6vqggmhzAQ2TTplUWmV1JohgDVS7CunnAogKvGX+0syzKRSIRgMFjTAlO9EQyYXYe2NyExAbffh/RC5c8pS7j9Ch1+6Kj82fYOfwfUHykoLlADL1WTZCS3D2+jj/2FL6GmCYVC+Hy+mhYXqNZZJDvuOuj+IRz5t+a/HcpD8wUz/6UIiURix28NcHg+AoEAwWCwZqem7VS/wAD4muDgv4J9fwiKd6+teQGQzXVHgeICk0wma/qlarWK2+2mvr4el8tVsyuo7dSGwCCZ7+g59iPziWtKbb4jpmoIHTA3V+HHYmYyGTRNq63kuhcAl8tFJBKp6byXfGooBltbQnDmv5irrcf/FtLze21UbdIcM6eoiyTXJZNJp3u0i8iynOsWeb3eFyJysaghgcFMea0/YkYy7gYY/atdf/tjzSO5oIMc51sAAAG6SURBVOX1ojNHQogdvlTNYSe4XC5CodALM+aST21eUaATjvwZeOrNRLzlEVNotNWtf1sTVOqlR7K5Uj1yuuhi0ko9msE63ovUOj8PVhJdMBjE7/e/MF2ifGpTYAA8EYi+Yy4pmPoQ5q6ZuTLJp5Bd3ZXlBZXDcrYyj4HIChz84Vr3aKNDG4bxHC9VcygFRVFwu90EAgF8Ph+qqr7Qolu7AgPmM2MipyB8ApJTMPsZTH9qCs3qIzNvRnYBspkJrKfMlxbtwStRSkaSQV5be2JkyiSUkjn7Vn8E9v0BqBsHya0IY+fvPCrOyx69yLKMLMuoqkooFMLv96MoNZ4JWCLVncm7E4RuCsvSfVi+D8kZSM2a77nOLEN61nxrQTZeZVGOZAqmOwTK2uyOnjBtfh5RlF3gCUPdEdj3fTj0p0UHd3VdZ25ujnQ6ja7rZROal01gFEVBluXcg6J8Ph8ejwdFUV6aMrB48QTGQghyz5oT5opmk2qu4DU7BWtmSpTVXkne8m0NL6o77CUvm6jYeXEFxsHBYc95MYeuHRwcqgJHYBwcHCqGIzAODg4VwxEYBweHiuEIjIODQ8X4/+xTIZFemsxVAAAAAElFTkSuQmCC)\n",
        "\n"
      ],
      "metadata": {
        "id": "aMSip3bP2ld_"
      }
    },
    {
      "cell_type": "code",
      "source": [
        "foisCommande = int(input(\"How many times has the detergent been ordered?: \"))\n",
        "\n",
        "if foisCommande <= 5:\n",
        "  rabais = 0.05\n",
        "if foisCommande > 5:\n",
        "  rabais = 0.15\n",
        "\n",
        "prixFinal = (coutTotal - (coutTotal * rabais)) * tax\n",
        "\n",
        "print(round(prixFinal,2)) # afficher le prix final, arrondi à 2 décimales"
      ],
      "metadata": {
        "id": "cG1IQ2Tk7Gih"
      },
      "execution_count": null,
      "outputs": []
    },
    {
      "cell_type": "markdown",
      "source": [
        "# Bilan\n",
        "\n",
        "Les conditions en Python sont utiles pour représenter des situations plus dynamiques et réalistes. Nous avons vu que les conditionnels peuvent être utilisés pour aider à automatiser la vérification de la solution des équations, mais aussi pour aider à représenter différentes situations sans modifier nos calculs."
      ],
      "metadata": {
        "id": "6cr8HSE38USh"
      }
    }
  ]
}
